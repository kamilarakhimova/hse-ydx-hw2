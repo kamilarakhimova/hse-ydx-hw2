{
  "cells": [
    {
      "cell_type": "markdown",
      "metadata": {
        "id": "jQksHD_W2nWc"
      },
      "source": [
        "# Задание 1 (1 балл)"
      ]
    },
    {
      "cell_type": "markdown",
      "metadata": {
        "id": "yqd2S1Ac2nWe"
      },
      "source": [
        "Если разбить поисковые запросы пользователей в РФ по тематикам, то можно выделить несколько кластеров, запросы в которых имеют похожий смысл или тему. В файле `searches.csv` - 6 временных рядов, соответствующих кластерам:\n",
        "\n",
        "    1. Коронавирус\n",
        "    2. Отели за границей\n",
        "    3. Школьные задания\n",
        "    4. Подарки и поздравления\n",
        "    5. Спортивные события\n",
        "    6. Музыка\n",
        "\n",
        "Определите, какой временной ряд относится к какому кластеру.\n",
        "\n",
        "Дайте ответ для всех кластеров в формате \"кластерX - `<название>`, потому что ... (ваши наблюдения и выводы на основе временного ряда)\".\n",
        "\n",
        "Ответы без обоснования не будут приняты.\n"
      ]
    },
    {
      "cell_type": "code",
      "execution_count": null,
      "metadata": {
        "id": "-6Qg4-AR2nWf",
        "outputId": "7e365dfa-69f4-4f09-943e-4a9778d35498"
      },
      "outputs": [
        {
          "data": {
            "text/html": [
              "<div>\n",
              "<style scoped>\n",
              "    .dataframe tbody tr th:only-of-type {\n",
              "        vertical-align: middle;\n",
              "    }\n",
              "\n",
              "    .dataframe tbody tr th {\n",
              "        vertical-align: top;\n",
              "    }\n",
              "\n",
              "    .dataframe thead th {\n",
              "        text-align: right;\n",
              "    }\n",
              "</style>\n",
              "<table border=\"1\" class=\"dataframe\">\n",
              "  <thead>\n",
              "    <tr style=\"text-align: right;\">\n",
              "      <th></th>\n",
              "      <th>ds</th>\n",
              "      <th>кластер1</th>\n",
              "      <th>кластер2</th>\n",
              "      <th>кластер3</th>\n",
              "      <th>кластер4</th>\n",
              "      <th>кластер5</th>\n",
              "      <th>кластер6</th>\n",
              "    </tr>\n",
              "  </thead>\n",
              "  <tbody>\n",
              "    <tr>\n",
              "      <th>0</th>\n",
              "      <td>2019-01-01</td>\n",
              "      <td>299036</td>\n",
              "      <td>1493286</td>\n",
              "      <td>11268577</td>\n",
              "      <td>50492</td>\n",
              "      <td>18596</td>\n",
              "      <td>599268</td>\n",
              "    </tr>\n",
              "    <tr>\n",
              "      <th>1</th>\n",
              "      <td>2019-01-02</td>\n",
              "      <td>228190</td>\n",
              "      <td>818971</td>\n",
              "      <td>8629779</td>\n",
              "      <td>57169</td>\n",
              "      <td>25282</td>\n",
              "      <td>952299</td>\n",
              "    </tr>\n",
              "    <tr>\n",
              "      <th>2</th>\n",
              "      <td>2019-01-03</td>\n",
              "      <td>297875</td>\n",
              "      <td>734393</td>\n",
              "      <td>7828308</td>\n",
              "      <td>61336</td>\n",
              "      <td>25863</td>\n",
              "      <td>1176552</td>\n",
              "    </tr>\n",
              "    <tr>\n",
              "      <th>3</th>\n",
              "      <td>2019-01-04</td>\n",
              "      <td>211296</td>\n",
              "      <td>742071</td>\n",
              "      <td>7542338</td>\n",
              "      <td>64927</td>\n",
              "      <td>27730</td>\n",
              "      <td>1304149</td>\n",
              "    </tr>\n",
              "    <tr>\n",
              "      <th>4</th>\n",
              "      <td>2019-01-05</td>\n",
              "      <td>270611</td>\n",
              "      <td>828797</td>\n",
              "      <td>7618576</td>\n",
              "      <td>62939</td>\n",
              "      <td>27709</td>\n",
              "      <td>1419539</td>\n",
              "    </tr>\n",
              "  </tbody>\n",
              "</table>\n",
              "</div>"
            ],
            "text/plain": [
              "          ds  кластер1  кластер2  кластер3  кластер4  кластер5  кластер6\n",
              "0 2019-01-01    299036   1493286  11268577     50492     18596    599268\n",
              "1 2019-01-02    228190    818971   8629779     57169     25282    952299\n",
              "2 2019-01-03    297875    734393   7828308     61336     25863   1176552\n",
              "3 2019-01-04    211296    742071   7542338     64927     27730   1304149\n",
              "4 2019-01-05    270611    828797   7618576     62939     27709   1419539"
            ]
          },
          "execution_count": 1,
          "metadata": {},
          "output_type": "execute_result"
        }
      ],
      "source": [
        "import pandas as pd\n",
        "from prophet import Prophet\n",
        "\n",
        "searches_df = pd.read_csv('searches.csv', parse_dates=['ds'])\n",
        "searches_df.head()"
      ]
    },
    {
      "cell_type": "code",
      "execution_count": null,
      "metadata": {
        "id": "lUSEWyq_2nWg"
      },
      "outputs": [],
      "source": []
    },
    {
      "cell_type": "markdown",
      "metadata": {
        "id": "JMv1Gg7v2nWh"
      },
      "source": [
        "# Задание 2 (4 балла)"
      ]
    },
    {
      "cell_type": "markdown",
      "metadata": {
        "id": "YQ-BOJnM2nWh"
      },
      "source": [
        "\n",
        "## Задача\n",
        "\n",
        "Вам дана небольшая выборка поисковых запросов, связанных с поиском работм. Запросы разбиты на подкатегории 1, 2, 3, 4, 5, 6, 7 и 8.\n",
        "Вам нужно сделать подневный прогноз **суммы** поисковых запросов с учётом трендов, сезонности, праздников и аномалий. При этом нужно продемонстрировать качество модели.\n",
        "\n",
        "Представьте, что сегодня 1 июля 2021 года, и вам нужно спрогнозировать количество запросов до конца 2021 года.\n",
        "\n",
        "Прогноз можно строить в Excel, Jupyter Notebook или другими знакомыми инструментами. Главное, чтобы расчёт мог воспроизвести другой человек.\n",
        "\n",
        "## Данные\n",
        "\n",
        "\n",
        "\n",
        "Для того, чтобы не только сделать прогноз, но и проверить качество модели, данные разбиты на три файла:\n",
        "\n",
        "`train.csv` - обучающая выборка с 2017-01-01 по 2020-12-31\n",
        "\n",
        "`test.csv` - тестовая выборка с 2021-01-01 по 2021-06-30\n",
        "\n",
        "`val.csv` - валидационная выборка с 2021-07-01 по 2021-12-31. **Для чистоты эксперимента не смотрите его пока что, это данные о будущем, которое хотим предсказать.**\n",
        "\n",
        "Их назначение будет объяснено позже.\n",
        "\n",
        "## Оценка качества\n",
        "\n",
        "Для оценки качества прогнозных моделей проведём эксперимент: скроем от модели часть известных нам данных, построим прогноз, а затем проверим, насколько хорошо он попадает в факт.\n",
        "\n",
        "Для оценки качества моделей будем использовать метрику [MAPE](https://en.wikipedia.org/wiki/Mean_absolute_percentage_error) по дням: $\\text{MAPE} = 100\\% \\cdot \\dfrac{1}{n}\\sum_{i=1}^n  \\left|\\dfrac{факт_i - прогноз_i}{факт_i}\\right| $\n",
        "\n",
        "Например, если нужно рассчитать MAPE за первые 6 месяцев 2021 года (181 день), получим формулу $\\text{MAPE} = 100\\% \\cdot \\dfrac{1}{181}\\sum_{i=1}^{181}  \\left|\\dfrac{факт_i - прогноз_i}{факт_i}\\right| $\n"
      ]
    },
    {
      "cell_type": "code",
      "execution_count": null,
      "metadata": {
        "id": "6PM7Er8S2nWh",
        "outputId": "f35c9399-afd3-48c9-c20a-cb751d34436c"
      },
      "outputs": [
        {
          "data": {
            "text/plain": [
              "21.875"
            ]
          },
          "execution_count": 2,
          "metadata": {},
          "output_type": "execute_result"
        }
      ],
      "source": [
        "# Пример функции MAPE, которая принимает на вход два списка с значениями\n",
        "def mape(fact_list, forecast_list):\n",
        "    errors = []\n",
        "\n",
        "    for f, p in zip(fact_list, forecast_list):\n",
        "        e = abs((f - p) / f)\n",
        "        errors.append(e)\n",
        "\n",
        "    return 100.0 * sum(errors) / len(errors)\n",
        "\n",
        "mape([1, 2, 3, 4], [0.5, 1.5, 3, 4.5])"
      ]
    },
    {
      "cell_type": "markdown",
      "metadata": {
        "id": "H5djOUqJ2nWi"
      },
      "source": [
        "## 2.1. Базовый прогноз (1 балл)\n",
        "1. Откройте обучающую выборку из файла `train.csv` в Excel или загрузите в pandas DataFrame. Модели должны обучаться только на ней\n",
        "2. Постройте график временного ряда суммы поисковых запросов\n",
        "3. Постройте прогноз этого ряда до конца 2021 года любым удобным вам способом (например, взяв код или формулу из лекции) **без** очистки данных, подбора параметров модели, учёта праздников и пр.\n",
        "4. Прочитайте тестовые данные из файла `test.csv` и посчитайте ошибку прогноза (MAPE) на данных за первое полугодие 2021 года. Назовём это значение ошибки `mape1`"
      ]
    },
    {
      "cell_type": "code",
      "execution_count": null,
      "metadata": {
        "id": "DVaoE_Hm2nWi",
        "outputId": "6f36615b-ead2-4781-f4cf-f50db3a6db34"
      },
      "outputs": [
        {
          "data": {
            "text/html": [
              "<div>\n",
              "<style scoped>\n",
              "    .dataframe tbody tr th:only-of-type {\n",
              "        vertical-align: middle;\n",
              "    }\n",
              "\n",
              "    .dataframe tbody tr th {\n",
              "        vertical-align: top;\n",
              "    }\n",
              "\n",
              "    .dataframe thead th {\n",
              "        text-align: right;\n",
              "    }\n",
              "</style>\n",
              "<table border=\"1\" class=\"dataframe\">\n",
              "  <thead>\n",
              "    <tr style=\"text-align: right;\">\n",
              "      <th></th>\n",
              "      <th>ds</th>\n",
              "      <th>1</th>\n",
              "      <th>2</th>\n",
              "      <th>3</th>\n",
              "      <th>4</th>\n",
              "      <th>5</th>\n",
              "      <th>6</th>\n",
              "      <th>7</th>\n",
              "      <th>8</th>\n",
              "    </tr>\n",
              "  </thead>\n",
              "  <tbody>\n",
              "    <tr>\n",
              "      <th>0</th>\n",
              "      <td>2017-01-01</td>\n",
              "      <td>8061</td>\n",
              "      <td>10075</td>\n",
              "      <td>20735</td>\n",
              "      <td>8641</td>\n",
              "      <td>3414</td>\n",
              "      <td>39</td>\n",
              "      <td>2343</td>\n",
              "      <td>11229</td>\n",
              "    </tr>\n",
              "    <tr>\n",
              "      <th>1</th>\n",
              "      <td>2017-01-02</td>\n",
              "      <td>13243</td>\n",
              "      <td>15663</td>\n",
              "      <td>33827</td>\n",
              "      <td>18966</td>\n",
              "      <td>5900</td>\n",
              "      <td>61</td>\n",
              "      <td>4213</td>\n",
              "      <td>14216</td>\n",
              "    </tr>\n",
              "    <tr>\n",
              "      <th>2</th>\n",
              "      <td>2017-01-03</td>\n",
              "      <td>16230</td>\n",
              "      <td>18959</td>\n",
              "      <td>38730</td>\n",
              "      <td>24648</td>\n",
              "      <td>7560</td>\n",
              "      <td>65</td>\n",
              "      <td>5874</td>\n",
              "      <td>17375</td>\n",
              "    </tr>\n",
              "    <tr>\n",
              "      <th>3</th>\n",
              "      <td>2017-01-04</td>\n",
              "      <td>18671</td>\n",
              "      <td>21144</td>\n",
              "      <td>42381</td>\n",
              "      <td>29907</td>\n",
              "      <td>9394</td>\n",
              "      <td>69</td>\n",
              "      <td>8042</td>\n",
              "      <td>19965</td>\n",
              "    </tr>\n",
              "    <tr>\n",
              "      <th>4</th>\n",
              "      <td>2017-01-05</td>\n",
              "      <td>20471</td>\n",
              "      <td>23040</td>\n",
              "      <td>43880</td>\n",
              "      <td>32436</td>\n",
              "      <td>10076</td>\n",
              "      <td>72</td>\n",
              "      <td>8731</td>\n",
              "      <td>20599</td>\n",
              "    </tr>\n",
              "  </tbody>\n",
              "</table>\n",
              "</div>"
            ],
            "text/plain": [
              "          ds      1      2      3      4      5   6     7      8\n",
              "0 2017-01-01   8061  10075  20735   8641   3414  39  2343  11229\n",
              "1 2017-01-02  13243  15663  33827  18966   5900  61  4213  14216\n",
              "2 2017-01-03  16230  18959  38730  24648   7560  65  5874  17375\n",
              "3 2017-01-04  18671  21144  42381  29907   9394  69  8042  19965\n",
              "4 2017-01-05  20471  23040  43880  32436  10076  72  8731  20599"
            ]
          },
          "execution_count": 3,
          "metadata": {},
          "output_type": "execute_result"
        }
      ],
      "source": [
        "train_df = pd.read_csv('train.csv', parse_dates=['ds'])\n",
        "train_df.head()"
      ]
    },
    {
      "cell_type": "code",
      "execution_count": null,
      "metadata": {
        "id": "vDiPasJz2nWi"
      },
      "outputs": [],
      "source": [
        "# временной ряд суммы всех поисковых запросов (факт)\n",
        "train_sum_df =\n",
        "\n",
        "# постройте график суммарного временного ряда\n"
      ]
    },
    {
      "cell_type": "code",
      "execution_count": null,
      "metadata": {
        "id": "wapQDGuB2nWj"
      },
      "outputs": [],
      "source": [
        "# постройте прогноз этого суммарного ряда\n",
        "forecast_df_1 =\n"
      ]
    },
    {
      "cell_type": "code",
      "execution_count": null,
      "metadata": {
        "id": "w2rTDBwC2nWj",
        "outputId": "c7b6600e-7ef6-45a7-cfb4-f66f27a05e40"
      },
      "outputs": [
        {
          "data": {
            "text/html": [
              "<div>\n",
              "<style scoped>\n",
              "    .dataframe tbody tr th:only-of-type {\n",
              "        vertical-align: middle;\n",
              "    }\n",
              "\n",
              "    .dataframe tbody tr th {\n",
              "        vertical-align: top;\n",
              "    }\n",
              "\n",
              "    .dataframe thead th {\n",
              "        text-align: right;\n",
              "    }\n",
              "</style>\n",
              "<table border=\"1\" class=\"dataframe\">\n",
              "  <thead>\n",
              "    <tr style=\"text-align: right;\">\n",
              "      <th></th>\n",
              "      <th>ds</th>\n",
              "      <th>1</th>\n",
              "      <th>2</th>\n",
              "      <th>3</th>\n",
              "      <th>4</th>\n",
              "      <th>5</th>\n",
              "      <th>6</th>\n",
              "      <th>7</th>\n",
              "      <th>8</th>\n",
              "    </tr>\n",
              "  </thead>\n",
              "  <tbody>\n",
              "    <tr>\n",
              "      <th>0</th>\n",
              "      <td>2021-01-01</td>\n",
              "      <td>15721</td>\n",
              "      <td>26737</td>\n",
              "      <td>22323</td>\n",
              "      <td>6795</td>\n",
              "      <td>4608</td>\n",
              "      <td>54</td>\n",
              "      <td>5080</td>\n",
              "      <td>0</td>\n",
              "    </tr>\n",
              "    <tr>\n",
              "      <th>1</th>\n",
              "      <td>2021-01-02</td>\n",
              "      <td>22581</td>\n",
              "      <td>42605</td>\n",
              "      <td>33369</td>\n",
              "      <td>14446</td>\n",
              "      <td>7526</td>\n",
              "      <td>77</td>\n",
              "      <td>7141</td>\n",
              "      <td>0</td>\n",
              "    </tr>\n",
              "    <tr>\n",
              "      <th>2</th>\n",
              "      <td>2021-01-03</td>\n",
              "      <td>28147</td>\n",
              "      <td>42337</td>\n",
              "      <td>38091</td>\n",
              "      <td>18697</td>\n",
              "      <td>9639</td>\n",
              "      <td>89</td>\n",
              "      <td>8755</td>\n",
              "      <td>0</td>\n",
              "    </tr>\n",
              "    <tr>\n",
              "      <th>3</th>\n",
              "      <td>2021-01-04</td>\n",
              "      <td>30981</td>\n",
              "      <td>45813</td>\n",
              "      <td>39446</td>\n",
              "      <td>23713</td>\n",
              "      <td>11766</td>\n",
              "      <td>92</td>\n",
              "      <td>12895</td>\n",
              "      <td>0</td>\n",
              "    </tr>\n",
              "    <tr>\n",
              "      <th>4</th>\n",
              "      <td>2021-01-05</td>\n",
              "      <td>33250</td>\n",
              "      <td>45727</td>\n",
              "      <td>41607</td>\n",
              "      <td>25525</td>\n",
              "      <td>12616</td>\n",
              "      <td>96</td>\n",
              "      <td>13744</td>\n",
              "      <td>0</td>\n",
              "    </tr>\n",
              "  </tbody>\n",
              "</table>\n",
              "</div>"
            ],
            "text/plain": [
              "          ds      1      2      3      4      5   6      7  8\n",
              "0 2021-01-01  15721  26737  22323   6795   4608  54   5080  0\n",
              "1 2021-01-02  22581  42605  33369  14446   7526  77   7141  0\n",
              "2 2021-01-03  28147  42337  38091  18697   9639  89   8755  0\n",
              "3 2021-01-04  30981  45813  39446  23713  11766  92  12895  0\n",
              "4 2021-01-05  33250  45727  41607  25525  12616  96  13744  0"
            ]
          },
          "execution_count": 4,
          "metadata": {},
          "output_type": "execute_result"
        }
      ],
      "source": [
        "test_df = pd.read_csv('test.csv', parse_dates=['ds'])\n",
        "test_df.head()"
      ]
    },
    {
      "cell_type": "code",
      "execution_count": null,
      "metadata": {
        "id": "ULBJMW6a2nWj"
      },
      "outputs": [],
      "source": [
        "# сумма всех поисков по дням из тестовой выборки\n",
        "test_sum_df =\n",
        "\n",
        "# посчитайте ошибку\n",
        "\n",
        "mape1 ="
      ]
    },
    {
      "cell_type": "markdown",
      "metadata": {
        "id": "Q2lpsDFq2nWj"
      },
      "source": [
        "## 2.2. Декомпозиция (1 балл)\n",
        "\n",
        "Давайте проверим, получится ли модель точнее, если мы спрогнозируем сначала поиски по категориям, а затем суммируем.\n",
        "\n",
        "5. Посмотрите категории поисковых запросов и определите, стоит ли все временные ряды прогнозировать независимо, или часть из них стоит сгруппировать в более крупные сущности (например, из 8 временных рядов можно получить 4). Почему?\n",
        "6. Постройте прогнозы по исходным или сгруппированным временным рядам (так же **без** предобработки данных), посчитайте MAPE для суммы всех поисков. Назовём её `mape2`\n",
        "\n",
        "Задание считается выполненным, если у вас есть прогноз, есть **минимум 2 группы** запросов и вы **объяснили**, почему объединили данные именно так (если объединяли) или почему не стали объединять."
      ]
    },
    {
      "cell_type": "code",
      "execution_count": null,
      "metadata": {
        "id": "Jk12MU8U2nWk"
      },
      "outputs": [],
      "source": [
        "# сгруппируйте категории запросов, если нужно. Почему именно так?\n",
        "train_df ="
      ]
    },
    {
      "cell_type": "code",
      "execution_count": null,
      "metadata": {
        "id": "xlPj7Tp82nWk"
      },
      "outputs": [],
      "source": [
        "# постройте прогноз по категориям\n",
        "forecast_df_2 ="
      ]
    },
    {
      "cell_type": "code",
      "execution_count": null,
      "metadata": {
        "id": "3Sddia7h2nWk"
      },
      "outputs": [],
      "source": [
        "# посчитайте ошибку по данным из test_sum_df\n",
        "\n",
        "mape2 ="
      ]
    },
    {
      "cell_type": "markdown",
      "metadata": {
        "id": "rd3eVxDx2nWk"
      },
      "source": [
        "## 2.3. Улучшение модели (1 балл)\n",
        "\n",
        "7. Для каждой группы из предыдущего задания постройте графики с фактом (train + test) и прогнозом, визуально оцените качество прогноза\n",
        "8. Найдите недостатки, очистите временные ряды от аномалий или обновите параметры модели. Учтите праздники, если позволяет модель. Увеличить точность может использование не-статистического метода для какого-либо из рядов\n",
        "9. Сделайте прогноз и замерьте качество на суммарных поисках, назовите ошибку `mape3`\n",
        "\n",
        "Задание считается выполненным, если вы получили `mape3 < mape2` и `mape3 < mape1`, а прогноз №3 на весь 2021 год выглядит визуально адекватным"
      ]
    },
    {
      "cell_type": "code",
      "execution_count": null,
      "metadata": {
        "id": "skt3fDxb2nWl"
      },
      "outputs": [],
      "source": [
        "# чтобы сравнить каждую группу с тестовой выборкой, нужно так же сгруппировать данные в ней\n",
        "test_df =\n",
        "\n",
        "# факт для графиков\n",
        "train_and_test_df = pd.concat([test_df, train_df])"
      ]
    },
    {
      "cell_type": "code",
      "execution_count": null,
      "metadata": {
        "id": "yrYqxStu2nWl"
      },
      "outputs": [],
      "source": [
        "# постройте прогноз по очищенным категориям запросов\n",
        "\n",
        "forecast_df_3 ="
      ]
    },
    {
      "cell_type": "code",
      "execution_count": null,
      "metadata": {
        "id": "r-tYNpPM2nWl"
      },
      "outputs": [],
      "source": [
        "# посчитайте ошибку по данным из test_sum_df\n",
        "\n",
        "mape3 ="
      ]
    },
    {
      "cell_type": "markdown",
      "metadata": {
        "id": "ogBIZeX52nWl"
      },
      "source": [
        "## 2.4 Валидация модели (1 балл)"
      ]
    },
    {
      "cell_type": "markdown",
      "metadata": {
        "id": "OCEsfNrz2nWl"
      },
      "source": [
        "Вы обучали модель на обучающей выборке (train) и корректировали модель, основываясь на ошибке на тестовой выборке (test). Если при этом не оценивать прогноз визуально, модель может \"[переобучиться](https://neerc.ifmo.ru/wiki/index.php?title=Переобучение)\". В этом случае она будет хорошо предсказывать первое полугодие 2021, а другие периоды - плохо.\n",
        "\n",
        "Давайте проверим, смогла ли модель понять общие зависимости в данных или переобучилась. Для этого нужно посчитать ошибку на `val.csv` (2021-06-01 - 2021-12-31) для всех моделей.\n",
        "\n",
        "Задание считается выполненным, если корректно посчитана ошибка на валидационной выборке и построен итоговый график с фактом и прогнозами."
      ]
    },
    {
      "cell_type": "code",
      "execution_count": null,
      "metadata": {
        "id": "tIlXTtlW2nWl"
      },
      "outputs": [],
      "source": [
        "val_df = pd.read_csv('val.csv', parse_dates=['ds'])\n",
        "val_df.head()"
      ]
    },
    {
      "cell_type": "code",
      "execution_count": null,
      "metadata": {
        "id": "3khJpGce2nWm"
      },
      "outputs": [],
      "source": [
        "# сумма всех рядов\n",
        "val_sum_df ="
      ]
    },
    {
      "cell_type": "code",
      "execution_count": null,
      "metadata": {
        "id": "GSr9vdSI2nWm"
      },
      "outputs": [],
      "source": [
        "# посчитайте ошибку на второе полугодие 2021 года для всех прогнозов\n",
        "\n",
        "val_error_1 =            # изначальный прогноз суммы\n",
        "val_error_2 =            # прогноз, разбитый на подкатегории\n",
        "val_error_3 =            # прогноз, разбитый на подкатегории и очищенный от аномалий"
      ]
    },
    {
      "cell_type": "markdown",
      "metadata": {
        "id": "R3ZguAOc2nWm"
      },
      "source": [
        "Обычно ошибка на валидационной выборке больше, чем на тестовой, это нормально. Однако, если она **гораздо** (например, в разы) больше ошибки на тестовой выборке, модель переобучилась.\n",
        "\n",
        "Если ошибка получилась большой, это не критично: у нас не было цели создать идеальный прогноз. Основными критериями при оценивании домашнего задания будут методологически верный подход к построению и визуальная адекватность полученного прогноза"
      ]
    },
    {
      "cell_type": "code",
      "execution_count": null,
      "metadata": {
        "id": "WLQXXCrp2nWm"
      },
      "outputs": [],
      "source": [
        "# постройте при приложите график суммы поисков с фактом (train + test + val) и всеми прогнозами\n"
      ]
    }
  ],
  "metadata": {
    "kernelspec": {
      "display_name": "Python 3",
      "language": "python",
      "name": "python3"
    },
    "language_info": {
      "codemirror_mode": {
        "name": "ipython",
        "version": 3
      },
      "file_extension": ".py",
      "mimetype": "text/x-python",
      "name": "python",
      "nbconvert_exporter": "python",
      "pygments_lexer": "ipython3",
      "version": "3.7.5"
    },
    "colab": {
      "provenance": []
    }
  },
  "nbformat": 4,
  "nbformat_minor": 0
}